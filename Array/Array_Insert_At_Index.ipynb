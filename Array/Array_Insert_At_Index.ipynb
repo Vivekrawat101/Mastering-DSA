{
 "cells": [
  {
   "cell_type": "markdown",
   "id": "4d3554b7",
   "metadata": {},
   "source": [
    "## 🧩 Problem: Array Insert at Index\n",
    "\n",
    "You are given an array `arr` (0-based indexing) and two positive integers `index` and `val`.  \n",
    "Insert `val` at the given `index` in the array.\n",
    "\n",
    "### Example 1\n",
    "**Input:**  \n",
    "arr = [1, 2, 3, 4, 5]  \n",
    "index = 5  \n",
    "val = 90  \n",
    "\n",
    "**Output:**  \n",
    "[1, 2, 3, 4, 5, 90]\n",
    "\n",
    "---\n",
    "\n",
    "### Example 2\n",
    "**Input:**  \n",
    "arr = [1, 2, 3, 4, 5]  \n",
    "index = 2  \n",
    "val = 90  \n",
    "\n",
    "**Output:**  \n",
    "[1, 2, 90, 3, 4, 5]\n"
   ]
  },
  {
   "cell_type": "code",
   "execution_count": null,
   "id": "b5a45981",
   "metadata": {},
   "outputs": [],
   "source": [
    "\n",
    "def insertAtIndex(arr, index, val):\n",
    "    arr.append(0)\n",
    "    n = len(arr)\n",
    "    \n",
    "    # insert at index \n",
    "    \n",
    "    for i in range(n-2, index-1 , -1):\n",
    "        \n",
    "        arr[i+1] = arr[i]\n",
    "        \n",
    "    \n",
    "    arr[index] = val\n",
    "    print(arr)"
   ]
  },
  {
   "cell_type": "code",
   "execution_count": 20,
   "id": "a4c9ff7a",
   "metadata": {},
   "outputs": [
    {
     "name": "stdout",
     "output_type": "stream",
     "text": [
      "[1, 2, 10, 3, 4, 5]\n"
     ]
    }
   ],
   "source": [
    "insertAtIndex([1,2,3,4,5], 2, 10)"
   ]
  }
 ],
 "metadata": {
  "kernelspec": {
   "display_name": "Python 3",
   "language": "python",
   "name": "python3"
  },
  "language_info": {
   "codemirror_mode": {
    "name": "ipython",
    "version": 3
   },
   "file_extension": ".py",
   "mimetype": "text/x-python",
   "name": "python",
   "nbconvert_exporter": "python",
   "pygments_lexer": "ipython3",
   "version": "3.9.5"
  }
 },
 "nbformat": 4,
 "nbformat_minor": 5
}
