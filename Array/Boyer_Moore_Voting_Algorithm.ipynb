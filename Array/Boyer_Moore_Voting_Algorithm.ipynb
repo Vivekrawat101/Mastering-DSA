{
 "cells": [
  {
   "cell_type": "code",
   "execution_count": null,
   "metadata": {},
   "outputs": [
    {
     "name": "stdout",
     "output_type": "stream",
     "text": [
      "4.0\n"
     ]
    }
   ],
   "source": [
    "# find element with highest occurance in the array\n",
    "\n",
    "arr = [1,2,1,1,1,4,1,2]\n",
    "n = len(arr)\n",
    "print(n/2)\n",
    "# candidate votes should be more than or atleast 5 times"
   ]
  },
  {
   "cell_type": "code",
   "execution_count": null,
   "id": "420573bf",
   "metadata": {},
   "outputs": [],
   "source": [
    "# set a candidate \n",
    "# set count\n",
    "# if count = 0 then reassign candidate\n",
    "\n",
    "def voting_algo(arr):\n",
    "    candidate= 0\n",
    "    count = 0\n",
    "    n = len(arr)\n",
    "    for i in arr:\n",
    "        if count == 0:\n",
    "            candidate = i\n",
    "        \n",
    "        count += (1 if i == candidate else -1)\n",
    "\n",
    "    # recheck for candidate\n",
    "\n",
    "    if arr.count(candidate) >= n//2:\n",
    "        return candidate\n",
    "    \n",
    "    return None\n",
    "\n"
   ]
  },
  {
   "cell_type": "code",
   "execution_count": null,
   "id": "47151a15",
   "metadata": {},
   "outputs": [
    {
     "name": "stdout",
     "output_type": "stream",
     "text": [
      "1\n"
     ]
    }
   ],
   "source": [
    "print(voting_algo(arr))"
   ]
  }
 ],
 "metadata": {
  "kernelspec": {
   "display_name": "Python 3",
   "language": "python",
   "name": "python3"
  },
  "language_info": {
   "codemirror_mode": {
    "name": "ipython",
    "version": 3
   },
   "file_extension": ".py",
   "mimetype": "text/x-python",
   "name": "python",
   "nbconvert_exporter": "python",
   "pygments_lexer": "ipython3",
   "version": "3.9.5"
  }
 },
 "nbformat": 4,
 "nbformat_minor": 5
}
