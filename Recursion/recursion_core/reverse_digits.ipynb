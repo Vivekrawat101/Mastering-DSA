{
 "cells": [
  {
   "cell_type": "markdown",
   "id": "644bcb7d",
   "metadata": {},
   "source": [
    "\n",
    "    Reversing a number:\n",
    "\n",
    "- Tail recursion using *accumulator*\n",
    "- Outward recursion with *digit count*"
   ]
  },
  {
   "cell_type": "code",
   "execution_count": null,
   "id": "f696faa2",
   "metadata": {},
   "outputs": [],
   "source": [
    "# Tail Recursion \n",
    "# Using Accumulator\n",
    "def rev(n, acc = 0):\n",
    "    if n == 0:\n",
    "        return acc\n",
    "    \n",
    "    return rev(n//10, acc*10 + n%10)\n"
   ]
  },
  {
   "cell_type": "code",
   "execution_count": 63,
   "id": "180227b8",
   "metadata": {},
   "outputs": [
    {
     "name": "stdout",
     "output_type": "stream",
     "text": [
      "54321\n"
     ]
    }
   ],
   "source": [
    "print(rev(12345))\n"
   ]
  },
  {
   "cell_type": "code",
   "execution_count": null,
   "id": "788e3178",
   "metadata": {},
   "outputs": [],
   "source": [
    "# Outward Recursion \n",
    "# Using Digit-Count\n",
    "\n",
    "def rev_1(n, e=0):\n",
    "    if n == 0:\n",
    "        return 0\n",
    "    \n",
    "    if e == 0:\n",
    "        e = len(str(n))\n",
    "    \n",
    "    return n%10 * 10**(e-1) + rev_1(n//10, e-1) "
   ]
  },
  {
   "cell_type": "code",
   "execution_count": 65,
   "id": "cc52f2f4",
   "metadata": {},
   "outputs": [
    {
     "name": "stdout",
     "output_type": "stream",
     "text": [
      "54321\n"
     ]
    }
   ],
   "source": [
    "print(rev_1(12345))"
   ]
  }
 ],
 "metadata": {
  "kernelspec": {
   "display_name": "Python 3",
   "language": "python",
   "name": "python3"
  },
  "language_info": {
   "codemirror_mode": {
    "name": "ipython",
    "version": 3
   },
   "file_extension": ".py",
   "mimetype": "text/x-python",
   "name": "python",
   "nbconvert_exporter": "python",
   "pygments_lexer": "ipython3",
   "version": "3.9.5"
  }
 },
 "nbformat": 4,
 "nbformat_minor": 5
}
