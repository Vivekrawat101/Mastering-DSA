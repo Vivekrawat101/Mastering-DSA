{
 "cells": [
  {
   "cell_type": "markdown",
   "id": "6d865bc6",
   "metadata": {},
   "source": [
    "### 🔁 Outward Recursion\n",
    "\n",
    "1. Given a number `n`, compute its factorial using recursion.  \n",
    "2. Given an integer, return the sum of its digits using recursion.  \n",
    "3. Given an array and a starting index, find the maximum element using recursion."
   ]
  }
 ],
 "metadata": {
  "language_info": {
   "name": "python"
  }
 },
 "nbformat": 4,
 "nbformat_minor": 5
}
