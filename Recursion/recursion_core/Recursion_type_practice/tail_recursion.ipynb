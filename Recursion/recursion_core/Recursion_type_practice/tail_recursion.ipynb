{
 "cells": [
  {
   "cell_type": "markdown",
   "id": "88128994",
   "metadata": {},
   "source": [
    "### 🔁 Tail Recursion\n",
    "\n",
    "1. Find the greatest common divisor of two integers using recursion.  \n",
    "2. Find the `n`th Fibonacci number using recursion.  \n",
    "3. Compute \\( x^n \\) using recursion."
   ]
  }
 ],
 "metadata": {
  "language_info": {
   "name": "python"
  }
 },
 "nbformat": 4,
 "nbformat_minor": 5
}
