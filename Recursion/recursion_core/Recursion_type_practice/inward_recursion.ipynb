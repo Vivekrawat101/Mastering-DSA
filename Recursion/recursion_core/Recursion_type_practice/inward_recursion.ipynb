{
 "cells": [
  {
   "cell_type": "markdown",
   "id": "5d8c61d6",
   "metadata": {},
   "source": [
    "### 🔁 Inward Recursion\n",
    "\n",
    "1. Given an integer, return its reverse using recursion.  \n",
    "2. Given an integer, calculate the sum of its digits using recursion.  \n",
    "3. Given two integers `x` and `n`, compute \\( x^n \\) using recursion."
   ]
  }
 ],
 "metadata": {
  "language_info": {
   "name": "python"
  }
 },
 "nbformat": 4,
 "nbformat_minor": 5
}
