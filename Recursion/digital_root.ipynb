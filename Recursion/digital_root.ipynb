{
 "cells": [
  {
   "cell_type": "markdown",
   "id": "b376e11f",
   "metadata": {},
   "source": [
    "### Digital Root\n",
    "\n",
    "- You are given a number n. You need to find the digital root of n. DigitalRoot of a number is the recursive sum of its digits until we get a single digit number.\n",
    "\n",
    "Input: n = 99999\n",
    "Output: 9\n",
    "Explanation: Sum of digits of 99999 is 45 which is not a single digit number, hence sum of digit of 45 is 9 which is a single digit number."
   ]
  },
  {
   "cell_type": "code",
   "execution_count": 9,
   "id": "244e4f68",
   "metadata": {},
   "outputs": [],
   "source": [
    "def digi_root(n, acc=0):\n",
    "    if n==0:\n",
    "        if acc < 10:\n",
    "            return acc\n",
    "        else:\n",
    "            return digi_root(acc, 0)\n",
    "    \n",
    "    return digi_root(n//10, acc + n%10)\n",
    "    "
   ]
  },
  {
   "cell_type": "code",
   "execution_count": 13,
   "id": "e0f89282",
   "metadata": {},
   "outputs": [
    {
     "name": "stdout",
     "output_type": "stream",
     "text": [
      "9\n"
     ]
    }
   ],
   "source": [
    "print(digi_root(999))"
   ]
  }
 ],
 "metadata": {
  "kernelspec": {
   "display_name": "Python 3",
   "language": "python",
   "name": "python3"
  },
  "language_info": {
   "codemirror_mode": {
    "name": "ipython",
    "version": 3
   },
   "file_extension": ".py",
   "mimetype": "text/x-python",
   "name": "python",
   "nbconvert_exporter": "python",
   "pygments_lexer": "ipython3",
   "version": "3.9.5"
  }
 },
 "nbformat": 4,
 "nbformat_minor": 5
}
