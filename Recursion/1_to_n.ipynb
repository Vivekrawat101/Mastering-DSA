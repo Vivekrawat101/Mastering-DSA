{
 "cells": [
  {
   "cell_type": "code",
   "execution_count": 8,
   "id": "c08093ec",
   "metadata": {},
   "outputs": [],
   "source": [
    "def iterate(n):\n",
    "    if n == 0:\n",
    "        return\n",
    "    iterate(n-1)\n",
    "    print(n, end= \" \")"
   ]
  },
  {
   "cell_type": "code",
   "execution_count": 9,
   "id": "10389bb2",
   "metadata": {},
   "outputs": [
    {
     "name": "stdout",
     "output_type": "stream",
     "text": [
      "1 2 3 4 5 6 7 8 9 10 "
     ]
    }
   ],
   "source": [
    "iterate(10)"
   ]
  }
 ],
 "metadata": {
  "kernelspec": {
   "display_name": "Python 3",
   "language": "python",
   "name": "python3"
  },
  "language_info": {
   "codemirror_mode": {
    "name": "ipython",
    "version": 3
   },
   "file_extension": ".py",
   "mimetype": "text/x-python",
   "name": "python",
   "nbconvert_exporter": "python",
   "pygments_lexer": "ipython3",
   "version": "3.9.5"
  }
 },
 "nbformat": 4,
 "nbformat_minor": 5
}
