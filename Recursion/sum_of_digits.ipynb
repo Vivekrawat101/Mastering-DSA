{
 "cells": [
  {
   "cell_type": "markdown",
   "id": "5bbbb1c8",
   "metadata": {},
   "source": [
    "### Sum of Digits of a Number\n",
    "\n",
    "You are given a number n. You need to find the \"sum of digits\" of n."
   ]
  },
  {
   "cell_type": "code",
   "execution_count": 1,
   "id": "1fe3bef5",
   "metadata": {},
   "outputs": [],
   "source": [
    "def digits_sum(n, acc = 0):\n",
    "    if n == 0:\n",
    "        return acc\n",
    "\n",
    "    return digits_sum(n//10, acc+n%10)"
   ]
  },
  {
   "cell_type": "code",
   "execution_count": 3,
   "id": "2279a055",
   "metadata": {},
   "outputs": [
    {
     "name": "stdout",
     "output_type": "stream",
     "text": [
      "12\n"
     ]
    }
   ],
   "source": [
    "print(digits_sum(246))"
   ]
  }
 ],
 "metadata": {
  "kernelspec": {
   "display_name": "Python 3",
   "language": "python",
   "name": "python3"
  },
  "language_info": {
   "codemirror_mode": {
    "name": "ipython",
    "version": 3
   },
   "file_extension": ".py",
   "mimetype": "text/x-python",
   "name": "python",
   "nbconvert_exporter": "python",
   "pygments_lexer": "ipython3",
   "version": "3.9.5"
  }
 },
 "nbformat": 4,
 "nbformat_minor": 5
}
