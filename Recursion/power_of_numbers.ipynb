{
 "cells": [
  {
   "cell_type": "markdown",
   "id": "601f99d5",
   "metadata": {},
   "source": [
    "- Given a number n, find the value of n raised to the power of its own reverse.\n",
    "- Note: The result will always fit into a 32-bit signed integer."
   ]
  },
  {
   "cell_type": "code",
   "execution_count": 1,
   "id": "8422cc02",
   "metadata": {},
   "outputs": [],
   "source": [
    "def rev(n):\n",
    "    if n == 0:\n",
    "        return 0\n",
    "    \n",
    "    return ((n%10) * 10) + rev(n//10) "
   ]
  },
  {
   "cell_type": "code",
   "execution_count": 2,
   "id": "4f5e6ed0",
   "metadata": {},
   "outputs": [
    {
     "name": "stdout",
     "output_type": "stream",
     "text": [
      "60\n"
     ]
    }
   ],
   "source": [
    "print(rev(24))"
   ]
  }
 ],
 "metadata": {
  "kernelspec": {
   "display_name": "Python 3",
   "language": "python",
   "name": "python3"
  },
  "language_info": {
   "codemirror_mode": {
    "name": "ipython",
    "version": 3
   },
   "file_extension": ".py",
   "mimetype": "text/x-python",
   "name": "python",
   "nbconvert_exporter": "python",
   "pygments_lexer": "ipython3",
   "version": "3.9.5"
  }
 },
 "nbformat": 4,
 "nbformat_minor": 5
}
